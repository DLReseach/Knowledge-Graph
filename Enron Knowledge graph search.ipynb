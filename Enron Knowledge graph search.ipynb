{
 "cells": [
  {
   "cell_type": "code",
   "execution_count": 16,
   "metadata": {},
   "outputs": [],
   "source": [
    "import numpy as np\n",
    "import pandas as pd\n",
    "import networkx as nx\n",
    "\n",
    "\n",
    "G = nx.read_gpickle(path=\"C:\\\\Users\\\\Shawn\\\\Documents\\\\Python Scripts\\\\Knowledge-Graph\\\\enron_KG_full.gpickle\")\n",
    "\n",
    "email_topic = [(ed[0], ed[1], ed[2][\"attr\"][\"weight\"]) for ed in list(G.edges(data=True)) if ed[2][\"attr\"][\"object_name\"]==\"contains\"]\n",
    "sends_email = [(ed[0], ed[1], ed[2][\"attr\"][\"datetime\"]) for ed in list(G.edges(data=True)) if ed[2][\"attr\"][\"object_name\"]==\"sends\"]\n",
    "rec_email =  [(ed[0], ed[1], ed[2][\"attr\"][\"datetime\"]) for ed in list(G.edges(data=True)) if ed[2][\"attr\"][\"object_name\"]==\"receives\"]\n",
    "person_is =  [(ed[0], ed[1]) for ed in list(G.edges(data=True)) if ed[2][\"attr\"][\"object_name\"]==\"is\"]\n",
    "employee = [(n[0], n[1][\"attr\"][\"full_name\"]) for n in G.nodes(data=True) if n[1][\"attr\"][\"object_name\"]==\"person\"]\n",
    "topics = [(n[0], n[1][\"attr\"][\"topic\"]) for n in G.nodes(data=True) if n[1][\"attr\"][\"object_name\"]==\"topic\"]\n",
    "has_ = [(ed[0], ed[1]) for ed in list(G.edges(data=True)) if ed[2][\"attr\"][\"object_name\"]==\"has\"]\n",
    "attribs = [(n[0], n[1][\"attr\"][\"hub_score\"], n[1][\"attr\"][\"auth_score\"], n[1][\"attr\"][\"betweenness_score\"]) \n",
    "           for n in G.nodes(data=True) if n[1][\"attr\"][\"object_name\"]==\"attribute\"]"
   ]
  },
  {
   "cell_type": "code",
   "execution_count": 17,
   "metadata": {},
   "outputs": [],
   "source": [
    "email_topic = pd.DataFrame(email_topic, columns=[\"Email Id\", \"Topic Id\", \"Weight\"])\n",
    "sends_email = pd.DataFrame(sends_email, columns=[\"Employee Id\", \"Email Id\", \"Email send date\"])\n",
    "rec_email = pd.DataFrame(rec_email, columns=[\"Employee Id\", \"Email Id\",\"Email receipt date\"])\n",
    "person_is = pd.DataFrame(person_is, columns=[\"Employee Id\", \"Position\"])\n",
    "employee = pd.DataFrame(employee, columns=[\"Employee Id\", \"Full name\"])\n",
    "topics = pd.DataFrame(topics, columns=[\"Topic Id\", \"Topics\"])\n",
    "has_ = pd.DataFrame(has_, columns=[\"Employee Id\", \"Attr Id\"])\n",
    "attribs = pd.DataFrame(attribs, columns=[\"Attr Id\", \"Hub score\", \"Auth score\", \"Betweenness score\"])\n",
    "data = sends_email.merge(rec_email, how=\"inner\", left_on=\"Email Id\", \n",
    "                             right_on=\"Email Id\", suffixes=[\"_rec\", \"_send\"])"
   ]
  },
  {
   "cell_type": "code",
   "execution_count": 20,
   "metadata": {},
   "outputs": [],
   "source": [
    "email_topic.to_excel(\"data\\\\email_topic.xlsx\")\n",
    "sends_email.to_excel(\"data\\\\sends_email.xlsx\")\n",
    "rec_email.to_excel(\"data\\\\rec_email.xlsx\")\n",
    "person_is.to_excel(\"data\\\\person_is.xlsx\")\n",
    "employee.to_excel(\"data\\\\employee.xlsx\")\n",
    "topics.to_excel(\"data\\\\topics.xlsx\")\n",
    "has_.to_excel(\"data\\\\has_.xlsx\")\n",
    "attribs.to_excel(\"data\\\\attribs.xlsx\")\n",
    "data.to_excel(\"data\\\\data.xlsx\")"
   ]
  },
  {
   "cell_type": "code",
   "execution_count": null,
   "metadata": {},
   "outputs": [],
   "source": []
  }
 ],
 "metadata": {
  "kernelspec": {
   "display_name": "Python 3",
   "language": "python",
   "name": "python3"
  },
  "language_info": {
   "codemirror_mode": {
    "name": "ipython",
    "version": 3
   },
   "file_extension": ".py",
   "mimetype": "text/x-python",
   "name": "python",
   "nbconvert_exporter": "python",
   "pygments_lexer": "ipython3",
   "version": "3.6.5"
  }
 },
 "nbformat": 4,
 "nbformat_minor": 2
}
