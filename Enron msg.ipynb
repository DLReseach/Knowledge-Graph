{
 "cells": [
  {
   "cell_type": "code",
   "execution_count": null,
   "metadata": {},
   "outputs": [],
   "source": [
    "cnx = mysql.connector.connect(user='shawn', password='shawn672000',\n",
    "                              host='CABOLLT0069',\n",
    "                              database='enron')\n",
    "g = cnx.cursor()\n",
    "\n",
    "q =  \"SELECT * FROM message\"\n",
    "msgs = pd.read_sql(con=cnx, sql=q, index_col=\"mid\")\n",
    "\n",
    "q = \"SELECT * FROM recipientinfo\"\n",
    "recp = pd.read_sql(con=cnx, sql=q, index_col=\"rid\")\n",
    "\n",
    "msgs = msgs[msgs.sender.str.endswith(\"@enron.com\")].reset_index(drop=True)\n",
    "\n",
    "recp = recp[recp.rvalue.str.endswith(\"@enron.com\")]\n",
    "\n",
    "msgs = msgs.merge(recp, how=\"inner\", left_index=True, right_on=\"mid\")\n",
    "msgs = msgs[[\"sender\", \"date\", \"mid\", \"subject\", \"rtype\", \"rvalue\", \"body\"]]\n",
    "msgs.columns = [\"sender\", \"date\", \"mid\", \"subject\", \"type\", \"recipient\", \"body\"]\n",
    "msgs = msgs[msgs[\"recipient\"] != \"no.address@enron.com\"]\n",
    "msgs = msgs.reset_index(drop=True)\n",
    "msgs = msgs[msgs.date.apply(lambda x:int(str(x)[:4])>=2000 and int(str(x)[:4])<=2002)]\n",
    "msgs.reset_index(drop=True, inplace=True)\n",
    "msgs[\"year\"] = msgs.date.dt.year\n",
    "msgs[\"month\"] = msgs.date.dt.month\n",
    "msgs[\"date_val\"] = msgs.date.dt.date\n",
    "msgs[\"month_name\"] = msgs.date.dt.month_name()\n",
    "\n",
    "msgs.recipient = msgs.recipient.apply(lambda x: x.split(\"@\")[0].replace(\".\", \" \"))\n",
    "msgs.sender = msgs.sender.apply(lambda x: x.split(\"@\")[0].replace(\".\", \" \"))\n",
    "\n",
    "msgs.to_pickle(\"enron_messages.pickle\")"
   ]
  },
  {
   "cell_type": "code",
   "execution_count": 1,
   "metadata": {},
   "outputs": [],
   "source": [
    "import numpy as np\n",
    "import pandas as pd\n",
    "import mysql.connector\n",
    "import gc, os\n",
    "import seaborn as sns\n",
    "import networkx as nx\n",
    "%matplotlib inline"
   ]
  },
  {
   "cell_type": "markdown",
   "metadata": {},
   "source": [
    "# Read messages and create graph"
   ]
  },
  {
   "cell_type": "code",
   "execution_count": null,
   "metadata": {},
   "outputs": [],
   "source": [
    "def build_undirected_graph()g = nx.Graph()\n",
    "msgs = pd.read_pickle(\"enron_messages.pickle\")\n",
    "for idx in range(len(msgs)):\n",
    "    snd = msgs.iloc[idx][\"sender\"]\n",
    "    rec = msgs.iloc[idx][\"recipient\"]\n",
    "    sub = msgs.iloc[idx][\"subject\"]\n",
    "    yr = msgs.iloc[idx][\"year\"]\n",
    "    m = msgs.iloc[idx][\"month\"]\n",
    "    mn = msgs.iloc[idx][\"month_name\"]\n",
    "    tp = msgs.iloc[idx][\"type\"]\n",
    "    g.add_edge(snd, rec, subject=sub, year=str(yr), month=str(m), mtype=tp)\n",
    "\n",
    "    \n",
    "    \n",
    "nx.write_gml(G=g, path=\"enron.gml\")"
   ]
  },
  {
   "cell_type": "code",
   "execution_count": 18,
   "metadata": {},
   "outputs": [],
   "source": [
    "g = nx.read_gml(path=\"enron.gml\")"
   ]
  },
  {
   "cell_type": "code",
   "execution_count": 19,
   "metadata": {},
   "outputs": [],
   "source": [
    "def trim_edges(g, degree):\n",
    "    g2 = g.copy()\n",
    "    d = g.degree()\n",
    "    for n in g.nodes():\n",
    "        if d[n]<=degree:\n",
    "            g2.remove_node(n)\n",
    "    return(g2)\n",
    "            \n",
    "    \n"
   ]
  },
  {
   "cell_type": "code",
   "execution_count": 27,
   "metadata": {},
   "outputs": [],
   "source": [
    "core5 = trim_edges(g, degree=5)\n",
    "core200 = trim_edges(g, degree=200)\n"
   ]
  },
  {
   "cell_type": "code",
   "execution_count": 28,
   "metadata": {},
   "outputs": [
    {
     "data": {
      "text/plain": [
       "686"
      ]
     },
     "execution_count": 28,
     "metadata": {},
     "output_type": "execute_result"
    }
   ],
   "source": []
  },
  {
   "cell_type": "code",
   "execution_count": null,
   "metadata": {},
   "outputs": [],
   "source": [
    "dg = \n",
    "dc = pd.Series(nx.degree_centrality(core5), name=\"degree\")\n",
    "clc = pd.Series(nx.closeness_centrality(core5), name=\"closeness\")\n",
    "bnc = pd.Series(nx.betweenness_centrality(core5), name=\"betweenness\")\n",
    "eigc = pd.Series(nx.eigenvector_centrality(core5), name=\"eigen\")\n",
    "all_metrics = pd.concat([dc, clc, bnc, eigc], axis=1)\n",
    "all_metrics.to_pickle(\"all_metrics.pickle\")\n",
    "\n",
    "nx.set_node_attributes(G=core5, name=\"degree\", values=all_metrics.degree.to_dict())\n",
    "nx.set_node_attributes(G=core5, name=\"betweenness\", values=all_metrics.betweenness.to_dict())\n",
    "nx.set_node_attributes(G=core5, name=\"closeness\", values=all_metrics.closeness.to_dict())\n",
    "nx.set_node_attributes(G=core5, name=\"eigen\", values=all_metrics.eigen.to_dict())\n",
    "\n",
    "nx.write_gml(G=core5, path=\"core5.gml\")"
   ]
  },
  {
   "cell_type": "markdown",
   "metadata": {},
   "source": [
    "Kenneth Lay, Jeffrey Skilling, Richard Causey, Tim Belden, ken skilling"
   ]
  },
  {
   "cell_type": "code",
   "execution_count": 2,
   "metadata": {},
   "outputs": [],
   "source": [
    "all_metrics = pd.read_pickle('all_metrics.pickle')\n",
    "core5 = nx.read_gml(path=\"core5.gml\")"
   ]
  },
  {
   "cell_type": "code",
   "execution_count": 61,
   "metadata": {},
   "outputs": [],
   "source": [
    "ken_ego = nx.ego_graph(G=core5, n=\"ken lay\", radius=1)\n",
    "tim_ego = nx.ego_graph(G=core5, n=\"tim belden\", radius=1, center=True)"
   ]
  },
  {
   "cell_type": "code",
   "execution_count": 63,
   "metadata": {},
   "outputs": [],
   "source": [
    "nx.write_gml(G=tim_ego, path=\"tim_ego.gml\")"
   ]
  },
  {
   "cell_type": "code",
   "execution_count": 30,
   "metadata": {},
   "outputs": [
    {
     "ename": "KeyboardInterrupt",
     "evalue": "",
     "output_type": "error",
     "traceback": [
      "\u001b[1;31m---------------------------------------------------------------------------\u001b[0m",
      "\u001b[1;31mKeyboardInterrupt\u001b[0m                         Traceback (most recent call last)",
      "\u001b[1;32m<ipython-input-30-7f2d5625c53f>\u001b[0m in \u001b[0;36m<module>\u001b[1;34m\u001b[0m\n\u001b[1;32m----> 1\u001b[1;33m \u001b[0mcliques\u001b[0m \u001b[1;33m=\u001b[0m \u001b[0mlist\u001b[0m\u001b[1;33m(\u001b[0m\u001b[0mnx\u001b[0m\u001b[1;33m.\u001b[0m\u001b[0mfind_cliques\u001b[0m\u001b[1;33m(\u001b[0m\u001b[0mG\u001b[0m\u001b[1;33m=\u001b[0m\u001b[0mcore200\u001b[0m\u001b[1;33m)\u001b[0m\u001b[1;33m)\u001b[0m\u001b[1;33m\u001b[0m\u001b[1;33m\u001b[0m\u001b[0m\n\u001b[0m\u001b[0;32m      2\u001b[0m \u001b[1;33m\u001b[0m\u001b[0m\n\u001b[0;32m      3\u001b[0m \u001b[1;33m\u001b[0m\u001b[0m\n\u001b[0;32m      4\u001b[0m \u001b[1;33m\u001b[0m\u001b[0m\n",
      "\u001b[1;32m~\\AppData\\Local\\Continuum\\anaconda3\\lib\\site-packages\\networkx\\algorithms\\clique.py\u001b[0m in \u001b[0;36mfind_cliques\u001b[1;34m(G)\u001b[0m\n\u001b[0;32m    199\u001b[0m                         \u001b[0msubg\u001b[0m \u001b[1;33m=\u001b[0m \u001b[0msubg_q\u001b[0m\u001b[1;33m\u001b[0m\u001b[1;33m\u001b[0m\u001b[0m\n\u001b[0;32m    200\u001b[0m                         \u001b[0mcand\u001b[0m \u001b[1;33m=\u001b[0m \u001b[0mcand_q\u001b[0m\u001b[1;33m\u001b[0m\u001b[1;33m\u001b[0m\u001b[0m\n\u001b[1;32m--> 201\u001b[1;33m                         \u001b[0mu\u001b[0m \u001b[1;33m=\u001b[0m \u001b[0mmax\u001b[0m\u001b[1;33m(\u001b[0m\u001b[0msubg\u001b[0m\u001b[1;33m,\u001b[0m \u001b[0mkey\u001b[0m\u001b[1;33m=\u001b[0m\u001b[1;32mlambda\u001b[0m \u001b[0mu\u001b[0m\u001b[1;33m:\u001b[0m \u001b[0mlen\u001b[0m\u001b[1;33m(\u001b[0m\u001b[0mcand\u001b[0m \u001b[1;33m&\u001b[0m \u001b[0madj\u001b[0m\u001b[1;33m[\u001b[0m\u001b[0mu\u001b[0m\u001b[1;33m]\u001b[0m\u001b[1;33m)\u001b[0m\u001b[1;33m)\u001b[0m\u001b[1;33m\u001b[0m\u001b[1;33m\u001b[0m\u001b[0m\n\u001b[0m\u001b[0;32m    202\u001b[0m                         \u001b[0mext_u\u001b[0m \u001b[1;33m=\u001b[0m \u001b[0mcand\u001b[0m \u001b[1;33m-\u001b[0m \u001b[0madj\u001b[0m\u001b[1;33m[\u001b[0m\u001b[0mu\u001b[0m\u001b[1;33m]\u001b[0m\u001b[1;33m\u001b[0m\u001b[1;33m\u001b[0m\u001b[0m\n\u001b[0;32m    203\u001b[0m             \u001b[1;32melse\u001b[0m\u001b[1;33m:\u001b[0m\u001b[1;33m\u001b[0m\u001b[1;33m\u001b[0m\u001b[0m\n",
      "\u001b[1;32m~\\AppData\\Local\\Continuum\\anaconda3\\lib\\site-packages\\networkx\\algorithms\\clique.py\u001b[0m in \u001b[0;36m<lambda>\u001b[1;34m(u)\u001b[0m\n\u001b[0;32m    199\u001b[0m                         \u001b[0msubg\u001b[0m \u001b[1;33m=\u001b[0m \u001b[0msubg_q\u001b[0m\u001b[1;33m\u001b[0m\u001b[1;33m\u001b[0m\u001b[0m\n\u001b[0;32m    200\u001b[0m                         \u001b[0mcand\u001b[0m \u001b[1;33m=\u001b[0m \u001b[0mcand_q\u001b[0m\u001b[1;33m\u001b[0m\u001b[1;33m\u001b[0m\u001b[0m\n\u001b[1;32m--> 201\u001b[1;33m                         \u001b[0mu\u001b[0m \u001b[1;33m=\u001b[0m \u001b[0mmax\u001b[0m\u001b[1;33m(\u001b[0m\u001b[0msubg\u001b[0m\u001b[1;33m,\u001b[0m \u001b[0mkey\u001b[0m\u001b[1;33m=\u001b[0m\u001b[1;32mlambda\u001b[0m \u001b[0mu\u001b[0m\u001b[1;33m:\u001b[0m \u001b[0mlen\u001b[0m\u001b[1;33m(\u001b[0m\u001b[0mcand\u001b[0m \u001b[1;33m&\u001b[0m \u001b[0madj\u001b[0m\u001b[1;33m[\u001b[0m\u001b[0mu\u001b[0m\u001b[1;33m]\u001b[0m\u001b[1;33m)\u001b[0m\u001b[1;33m)\u001b[0m\u001b[1;33m\u001b[0m\u001b[1;33m\u001b[0m\u001b[0m\n\u001b[0m\u001b[0;32m    202\u001b[0m                         \u001b[0mext_u\u001b[0m \u001b[1;33m=\u001b[0m \u001b[0mcand\u001b[0m \u001b[1;33m-\u001b[0m \u001b[0madj\u001b[0m\u001b[1;33m[\u001b[0m\u001b[0mu\u001b[0m\u001b[1;33m]\u001b[0m\u001b[1;33m\u001b[0m\u001b[1;33m\u001b[0m\u001b[0m\n\u001b[0;32m    203\u001b[0m             \u001b[1;32melse\u001b[0m\u001b[1;33m:\u001b[0m\u001b[1;33m\u001b[0m\u001b[1;33m\u001b[0m\u001b[0m\n",
      "\u001b[1;31mKeyboardInterrupt\u001b[0m: "
     ]
    }
   ],
   "source": [
    "cliques = list(nx.find_cliques(G=core200))"
   ]
  },
  {
   "cell_type": "code",
   "execution_count": 12,
   "metadata": {},
   "outputs": [
    {
     "data": {
      "text/plain": [
       "True"
      ]
     },
     "execution_count": 12,
     "metadata": {},
     "output_type": "execute_result"
    }
   ],
   "source": []
  },
  {
   "cell_type": "code",
   "execution_count": null,
   "metadata": {},
   "outputs": [],
   "source": []
  }
 ],
 "metadata": {
  "kernelspec": {
   "display_name": "Python 3",
   "language": "python",
   "name": "python3"
  },
  "language_info": {
   "codemirror_mode": {
    "name": "ipython",
    "version": 3
   },
   "file_extension": ".py",
   "mimetype": "text/x-python",
   "name": "python",
   "nbconvert_exporter": "python",
   "pygments_lexer": "ipython3",
   "version": "3.6.7"
  }
 },
 "nbformat": 4,
 "nbformat_minor": 2
}
