{
 "cells": [
  {
   "cell_type": "code",
   "execution_count": 1,
   "metadata": {},
   "outputs": [],
   "source": [
    "import numpy as np\n",
    "import pandas as pd\n",
    "import mysql.connector\n",
    "import gc, os\n",
    "import seaborn as sns\n",
    "import networkx as nx\n",
    "from sklearn.preprocessing import MinMaxScaler\n",
    "from sklearn.cluster import KMeans\n",
    "%matplotlib inline"
   ]
  },
  {
   "cell_type": "code",
   "execution_count": 2,
   "metadata": {},
   "outputs": [],
   "source": [
    "\n",
    "cnx = mysql.connector.connect(user='root', password='shawn672000',\n",
    "                              host='localhost',\n",
    "                              database='enron')\n",
    "g = cnx.cursor()\n",
    "\n",
    "q =  \"SELECT * FROM message\"\n",
    "msgs = pd.read_sql(con=cnx, sql=q)\n",
    "\n",
    "q = \"SELECT * FROM recipientinfo\"\n",
    "recp = pd.read_sql(con=cnx, sql=q)\n",
    "\n",
    "\n",
    "q = \"\"\"SELECT DISTINCT * FROM\n",
    "(SELECT concat(firstName, ' ', lastName) AS employee_name, Email_id as email_id, status AS position FROM enron.employeelist UNION\n",
    "SELECT concat(firstName, ' ', lastName) AS employee_name, Email2 as email_id, status AS position FROM enron.employeelist UNION\n",
    "SELECT concat(firstName, ' ', lastName) AS employee_name, Email3 as email_id, status AS position FROM enron.employeelist UNION\n",
    "SELECT concat(firstName, ' ', lastName) AS employee_name, Email4 as email_id, status AS position FROM enron.employeelist) s\"\"\"\n",
    "emp = pd.read_sql(con=cnx, sql=q)\n",
    "\n",
    "msgs = msgs.merge(emp, how=\"inner\", right_on=\"email_id\", left_on=\"sender\")\n",
    "\n",
    "msgs.columns = [\"mid\", 'sender', 'date', 'message_id', 'subject', 'body', 'folder', 'sender_name', 'email_id', 'sender_position']\n",
    "\n",
    "recp = recp.merge(emp, how = \"inner\", left_on=\"rvalue\", right_on=\"email_id\")\n",
    "\n",
    "recp.columns = [\"rid\", \"mid\", \"rtype\", \"rvalue\", \"dater\", \"recip_name\", \"recip_email_id\", \"recip_position\"]\n",
    "\n",
    "msgs = msgs.merge(recp, how=\"inner\", left_on=\"mid\", right_on=\"mid\", suffixes=[\"_msg\", \"_rec\"])\n",
    "\n",
    "msgs = msgs[['sender_name', 'sender_position', 'rtype', 'recip_name', 'recip_position']].reset_index(drop=True)\n",
    "del emp, recp\n",
    "gc.collect()\n",
    "\n",
    "#Who are the important people here? central people?\n",
    "msgs = msgs[msgs.rtype==\"TO\"].reset_index(drop=True)\n",
    "msgs.drop(\"rtype\", axis=1, inplace=True)\n",
    "\n",
    "msgs[\"weight\"] = 0\n",
    "msgs = msgs.groupby(by=[\"sender_name\", \"sender_position\", \"recip_name\", \"recip_position\"]).count().reset_index()\n",
    "\n",
    "G = nx.DiGraph()\n",
    "for i in range(len(msgs)):\n",
    "    sn = msgs.iloc[i][\"sender_name\"]\n",
    "    sp = msgs.iloc[i][\"sender_position\"]\n",
    "    rn = msgs.iloc[i][\"recip_name\"]\n",
    "    rp = msgs.iloc[i][\"recip_position\"]\n",
    "    w = msgs.iloc[i][\"weight\"]   \n",
    "    G.add_node(sn, position=sp)\n",
    "    G.add_node(rn, position=rp)\n",
    "    G.add_edge(sn, rn, weight=w)\n"
   ]
  },
  {
   "cell_type": "code",
   "execution_count": null,
   "metadata": {},
   "outputs": [],
   "source": [
    "position = pd.Series(name=\"position\")\n",
    "for n, at in G.nodes(data=True):\n",
    "    position.loc[n] = at[\"position\"]\n",
    "metrics = list()\n",
    "metrics.append(position)\n",
    "metrics.append(pd.Series(nx.in_degree_centrality(G), name=\"c_in_degree\"))\n",
    "metrics.append(pd.Series(nx.out_degree_centrality(G), name=\"c_out_degree\"))\n",
    "metrics.append(pd.Series(nx.closeness_centrality(G), name=\"c_closeness\"))\n",
    "metrics.append(pd.Series(nx.betweenness_centrality(G, normalized=True, endpoints=False, weight=\"weight\"), name=\"c_betweenness\"))\n",
    "metrics.append(pd.Series(nx.pagerank(G, weight=\"weight\", alpha=0.8), name=\"rank_scaled\"))\n",
    "h, a = nx.hits(G)\n",
    "metrics.append(pd.Series(h, name=\"hub\"))\n",
    "metrics.append(pd.Series(a, name=\"auth\"))\n",
    "metrics.append(pd.Series(nx.clustering(G), name=\"clustering\"))\n",
    "metrics.append(pd.Series(nx.neighbor_degree.average_neighbor_degree(G, weight=True), name=\"average_neigh_deg\"))\n",
    "\n",
    "metrics = pd.concat(metrics, axis=1)"
   ]
  },
  {
   "cell_type": "code",
   "execution_count": 18,
   "metadata": {},
   "outputs": [],
   "source": [
    "metrics['average_neigh_deg_norm'] = MinMaxScaler().fit_transform(metrics.average_neigh_deg.values.reshape(-1, 1)).ravel()"
   ]
  },
  {
   "cell_type": "code",
   "execution_count": 4,
   "metadata": {},
   "outputs": [],
   "source": [
    "edges_df = pd.DataFrame(columns=[\"source\", \"destination\", \"weight\"])\n",
    "for s, d, at in G.edges(data=True):\n",
    "    edges_df.loc[len(edges_df)] = (s, d, at[\"weight\"])\n",
    "    "
   ]
  },
  {
   "cell_type": "code",
   "execution_count": 19,
   "metadata": {},
   "outputs": [],
   "source": [
    "deg_cl = ['c_in_degree', 'c_out_degree']\n",
    "close_and_between = ['c_closeness', 'c_betweenness']\n",
    "pr = ['rank_scaled'] \n",
    "hits = ['hub', 'auth']\n",
    "form_a_community = ['clustering', 'average_neigh_deg_norm']"
   ]
  },
  {
   "cell_type": "code",
   "execution_count": 21,
   "metadata": {},
   "outputs": [],
   "source": [
    "km = KMeans(n_clusters=4)\n",
    "km.fit(metrics[deg_cl].values)\n",
    "metrics[\"degree_clus\"] = km.labels_\n",
    "\n",
    "km = KMeans(n_clusters=4)\n",
    "km.fit(metrics[close_and_between].values)\n",
    "metrics[\"close_and_between_clus\"] = km.labels_\n",
    "\n",
    "km = KMeans(n_clusters=4)\n",
    "km.fit(metrics[hits].values)\n",
    "metrics[\"hub_auth_clus\"] = km.labels_\n",
    "\n",
    "\n",
    "km = KMeans(n_clusters=4)\n",
    "km.fit(metrics[form_a_community].values)\n",
    "metrics[\"form_a_comunity\"] = km.labels_\n",
    "\n",
    "\n"
   ]
  },
  {
   "cell_type": "code",
   "execution_count": 24,
   "metadata": {},
   "outputs": [],
   "source": [
    "metrics.to_excel(\"enron_metrics.xlsx\")\n",
    "edges_df.to_excel(\"enron_edges.xlsx\")"
   ]
  },
  {
   "cell_type": "code",
   "execution_count": null,
   "metadata": {},
   "outputs": [],
   "source": []
  }
 ],
 "metadata": {
  "kernelspec": {
   "display_name": "Python 3",
   "language": "python",
   "name": "python3"
  },
  "language_info": {
   "codemirror_mode": {
    "name": "ipython",
    "version": 3
   },
   "file_extension": ".py",
   "mimetype": "text/x-python",
   "name": "python",
   "nbconvert_exporter": "python",
   "pygments_lexer": "ipython3",
   "version": "3.6.5"
  }
 },
 "nbformat": 4,
 "nbformat_minor": 2
}
