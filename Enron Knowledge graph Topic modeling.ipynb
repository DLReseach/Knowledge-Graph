{
 "cells": [
  {
   "cell_type": "code",
   "execution_count": 1,
   "metadata": {},
   "outputs": [],
   "source": [
    "import numpy as np\n",
    "import pandas as pd\n",
    "from sklearn.feature_extraction.text import CountVectorizer, TfidfVectorizer\n",
    "from sklearn.decomposition import LatentDirichletAllocation\n",
    "import string\n",
    "import joblib\n",
    "import spacy\n",
    "import matplotlib.pyplot as plt\n",
    "import seaborn as sns\n",
    "%matplotlib inline"
   ]
  },
  {
   "cell_type": "code",
   "execution_count": 2,
   "metadata": {},
   "outputs": [],
   "source": [
    "msgs = joblib.load(\"msgs.joblib\")\n",
    "msgs = msgs[[\"mid\", \"body\"]].reset_index(drop=True)\n",
    "msgs = msgs.drop_duplicates().reset_index(drop=True)\n"
   ]
  },
  {
   "cell_type": "code",
   "execution_count": 3,
   "metadata": {},
   "outputs": [],
   "source": [
    "nlp = spacy.load(\"en_core_web_sm\", disable=[\"parser\",\"tagger\", \"ner\"])\n",
    "def cleanup(s):\n",
    "    rem = [\"pmto\", \"mmbtu\", \"tw\", \"st\", \"isda\", \"pm\", \"cc\", \"hou\", \"na\", \"lon\", \"ferc\", \"amto\", \"ena\", \"eb\"]  \n",
    "    doc = nlp(s.lower())\n",
    "    return(\" \".join([t.lemma_ for t in doc if t.is_alpha \n",
    "                     and not(t.lemma_ in rem) \n",
    "                     and len(t.lemma_)>2\n",
    "                     and not(t.is_stop)]))"
   ]
  },
  {
   "cell_type": "code",
   "execution_count": 4,
   "metadata": {},
   "outputs": [],
   "source": [
    "for i in msgs.index:\n",
    "    msgs.at[i, \"body\"] = cleanup(msgs.loc[i][\"body\"])\n",
    "    \n",
    "msgs_len = msgs.body.apply(len)\n",
    "msgs_len = msgs_len[msgs_len>0]\n",
    "min_len, max_len = int(msgs_len.quantile(0.05)), int(msgs_len.quantile(0.95))\n",
    "msgs = msgs.loc[msgs_len[(msgs_len>min_len)&(msgs_len<max_len)].index]"
   ]
  },
  {
   "cell_type": "code",
   "execution_count": 5,
   "metadata": {},
   "outputs": [],
   "source": [
    "mx_d, mn_d = 0.9, 0.01\n",
    "vm = CountVectorizer(max_df=mx_d, min_df=mn_d, ngram_range=[1,1])\n",
    "\n",
    "d_vec = vm.fit_transform(msgs.body.values.tolist())\n"
   ]
  },
  {
   "cell_type": "code",
   "execution_count": 6,
   "metadata": {},
   "outputs": [],
   "source": [
    "lda = LatentDirichletAllocation(n_components=20, learning_method=\"online\", evaluate_every=-1, random_state=0)\n",
    "d_topic = lda.fit_transform(d_vec)"
   ]
  },
  {
   "cell_type": "code",
   "execution_count": 7,
   "metadata": {},
   "outputs": [
    {
     "data": {
      "text/plain": [
       "['body_lda.joblib']"
      ]
     },
     "execution_count": 7,
     "metadata": {},
     "output_type": "execute_result"
    }
   ],
   "source": [
    "joblib.dump(value=vm, filename=\"body_cv.joblib\")\n",
    "joblib.dump(value=lda, filename=\"body_lda.joblib\")\n"
   ]
  },
  {
   "cell_type": "code",
   "execution_count": 8,
   "metadata": {},
   "outputs": [],
   "source": [
    "topics = []\n",
    "for i in range(lda.components_.shape[0]):\n",
    "    fnames = np.array(vm.get_feature_names())\n",
    "    min_, max_ = lda.components_[i,:].min(), lda.components_[i,:].max()\n",
    "    comp_norm = lda.components_[i,:]\n",
    "    comp_norm = (comp_norm-min_)/(max_- min_)\n",
    "    com_idx = np.argsort(lda.components_[i,:])[::-1][0:50]\n",
    "    topics.append(list(zip(fnames[com_idx], np.round(comp_norm[com_idx], 4), np.round(lda.components_[i,com_idx], 1))))"
   ]
  },
  {
   "cell_type": "code",
   "execution_count": 9,
   "metadata": {},
   "outputs": [],
   "source": [
    "np.savez_compressed(file=\"mid_topics.npz\", \n",
    "                    feature_names=vm.get_feature_names(), \n",
    "                    email_topics=d_topic,\n",
    "                    topics = topics,\n",
    "                    mid=msgs.mid.values)"
   ]
  }
 ],
 "metadata": {
  "kernelspec": {
   "display_name": "Python 3",
   "language": "python",
   "name": "python3"
  },
  "language_info": {
   "codemirror_mode": {
    "name": "ipython",
    "version": 3
   },
   "file_extension": ".py",
   "mimetype": "text/x-python",
   "name": "python",
   "nbconvert_exporter": "python",
   "pygments_lexer": "ipython3",
   "version": "3.6.5"
  }
 },
 "nbformat": 4,
 "nbformat_minor": 2
}
